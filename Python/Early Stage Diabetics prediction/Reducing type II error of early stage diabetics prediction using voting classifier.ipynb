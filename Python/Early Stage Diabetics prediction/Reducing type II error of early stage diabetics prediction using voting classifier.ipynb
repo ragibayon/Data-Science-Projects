{
  "nbformat": 4,
  "nbformat_minor": 0,
  "metadata": {
    "accelerator": "TPU",
    "colab": {
      "name": "classifier-comparisons-for-diabetics-prediction.ipynb",
      "provenance": [],
      "collapsed_sections": [],
      "include_colab_link": true
    },
    "kernelspec": {
      "display_name": "Python 3",
      "language": "python",
      "name": "python3"
    },
    "language_info": {
      "codemirror_mode": {
        "name": "ipython",
        "version": 3
      },
      "file_extension": ".py",
      "mimetype": "text/x-python",
      "name": "python",
      "nbconvert_exporter": "python",
      "pygments_lexer": "ipython3",
      "version": "3.6.4"
    }
  },
  "cells": [
    {
      "cell_type": "markdown",
      "metadata": {
        "id": "view-in-github",
        "colab_type": "text"
      },
      "source": [
        "<a href=\"https://colab.research.google.com/github/ragibayon/Data-Science-Projects/blob/master/Python/Reducing%20type%20II%20error%20of%20early%20stage%20diabetics%20prediction%20using%20voting%20classifier.ipynb\" target=\"_parent\"><img src=\"https://colab.research.google.com/assets/colab-badge.svg\" alt=\"Open In Colab\"/></a>"
      ]
    },
    {
      "cell_type": "markdown",
      "metadata": {
        "id": "zppUc9tTgbMc"
      },
      "source": [
        "# Predicting early stage diabetics\n",
        "\n",
        "We need to go through the following steps for predicting early stage diabetics:\n",
        "1. Data wrangling\n",
        "2. Exploratory Data Analysis\n",
        "3. Data preprocessing and Feature Importance Analysis\n",
        "4. evaluating machine learning models\n",
        "5. creating ensamble model for robustness\n"
      ]
    },
    {
      "cell_type": "markdown",
      "metadata": {
        "id": "e2pwewbsgbMo"
      },
      "source": [
        "## Load the data set into memory\n",
        "\n",
        "This is a very small dataset consisting only 520 instances and cosumes approximately 70 KB so we can load all of it into memory, but for huge datasets we need to process them chunk by chunk."
      ]
    },
    {
      "cell_type": "code",
      "metadata": {
        "colab": {
          "base_uri": "https://localhost:8080/"
        },
        "id": "tb3-a0GIgejx",
        "outputId": "1af05f50-3338-441e-a06b-5efd96737335"
      },
      "source": [
        "from google.colab import drive\n",
        "drive.mount('/content/drive')"
      ],
      "execution_count": 1,
      "outputs": [
        {
          "output_type": "stream",
          "text": [
            "Drive already mounted at /content/drive; to attempt to forcibly remount, call drive.mount(\"/content/drive\", force_remount=True).\n"
          ],
          "name": "stdout"
        }
      ]
    },
    {
      "cell_type": "code",
      "metadata": {
        "id": "Jmus_X3EgbMp"
      },
      "source": [
        "import numpy as np\n",
        "import pandas as pd\n",
        "import seaborn as sns\n",
        "import matplotlib.pyplot as plt"
      ],
      "execution_count": 2,
      "outputs": []
    },
    {
      "cell_type": "code",
      "metadata": {
        "colab": {
          "base_uri": "https://localhost:8080/",
          "height": 249
        },
        "id": "7WnG6qt2gbMq",
        "outputId": "a166b163-3df9-408e-edfc-3de8e7ca88f7"
      },
      "source": [
        "# import os\n",
        "# for dirname, _, filenames in os.walk('/kaggle/input'):\n",
        "#     for filename in filenames:\n",
        "#         print(os.path.join(dirname, filename))\n",
        "\n",
        "# df = pd.read_csv(\"/kaggle/input/early-stage-diabetes-risk-prediction-dataset/diabetes_data_upload.csv\") #for kaggle\n",
        "# df = pd.read_csv(\"/content/drive/MyDrive/Research 2021/Likelihood of Early Stage Diabetics /diabetes_data.csv\") # for colab\n",
        "# df = pd.read_csv(\"diabetes_data_upload.csv\")\n",
        "\n",
        "df.head()"
      ],
      "execution_count": 3,
      "outputs": [
        {
          "output_type": "execute_result",
          "data": {
            "text/html": [
              "<div>\n",
              "<style scoped>\n",
              "    .dataframe tbody tr th:only-of-type {\n",
              "        vertical-align: middle;\n",
              "    }\n",
              "\n",
              "    .dataframe tbody tr th {\n",
              "        vertical-align: top;\n",
              "    }\n",
              "\n",
              "    .dataframe thead th {\n",
              "        text-align: right;\n",
              "    }\n",
              "</style>\n",
              "<table border=\"1\" class=\"dataframe\">\n",
              "  <thead>\n",
              "    <tr style=\"text-align: right;\">\n",
              "      <th></th>\n",
              "      <th>Age</th>\n",
              "      <th>Gender</th>\n",
              "      <th>Polyuria</th>\n",
              "      <th>Polydipsia</th>\n",
              "      <th>sudden weight loss</th>\n",
              "      <th>weakness</th>\n",
              "      <th>Polyphagia</th>\n",
              "      <th>Genital thrush</th>\n",
              "      <th>visual blurring</th>\n",
              "      <th>Itching</th>\n",
              "      <th>Irritability</th>\n",
              "      <th>delayed healing</th>\n",
              "      <th>partial paresis</th>\n",
              "      <th>muscle stiffness</th>\n",
              "      <th>Alopecia</th>\n",
              "      <th>Obesity</th>\n",
              "      <th>class</th>\n",
              "    </tr>\n",
              "  </thead>\n",
              "  <tbody>\n",
              "    <tr>\n",
              "      <th>0</th>\n",
              "      <td>40</td>\n",
              "      <td>Male</td>\n",
              "      <td>No</td>\n",
              "      <td>Yes</td>\n",
              "      <td>No</td>\n",
              "      <td>Yes</td>\n",
              "      <td>No</td>\n",
              "      <td>No</td>\n",
              "      <td>No</td>\n",
              "      <td>Yes</td>\n",
              "      <td>No</td>\n",
              "      <td>Yes</td>\n",
              "      <td>No</td>\n",
              "      <td>Yes</td>\n",
              "      <td>Yes</td>\n",
              "      <td>Yes</td>\n",
              "      <td>Positive</td>\n",
              "    </tr>\n",
              "    <tr>\n",
              "      <th>1</th>\n",
              "      <td>58</td>\n",
              "      <td>Male</td>\n",
              "      <td>No</td>\n",
              "      <td>No</td>\n",
              "      <td>No</td>\n",
              "      <td>Yes</td>\n",
              "      <td>No</td>\n",
              "      <td>No</td>\n",
              "      <td>Yes</td>\n",
              "      <td>No</td>\n",
              "      <td>No</td>\n",
              "      <td>No</td>\n",
              "      <td>Yes</td>\n",
              "      <td>No</td>\n",
              "      <td>Yes</td>\n",
              "      <td>No</td>\n",
              "      <td>Positive</td>\n",
              "    </tr>\n",
              "    <tr>\n",
              "      <th>2</th>\n",
              "      <td>41</td>\n",
              "      <td>Male</td>\n",
              "      <td>Yes</td>\n",
              "      <td>No</td>\n",
              "      <td>No</td>\n",
              "      <td>Yes</td>\n",
              "      <td>Yes</td>\n",
              "      <td>No</td>\n",
              "      <td>No</td>\n",
              "      <td>Yes</td>\n",
              "      <td>No</td>\n",
              "      <td>Yes</td>\n",
              "      <td>No</td>\n",
              "      <td>Yes</td>\n",
              "      <td>Yes</td>\n",
              "      <td>No</td>\n",
              "      <td>Positive</td>\n",
              "    </tr>\n",
              "    <tr>\n",
              "      <th>3</th>\n",
              "      <td>45</td>\n",
              "      <td>Male</td>\n",
              "      <td>No</td>\n",
              "      <td>No</td>\n",
              "      <td>Yes</td>\n",
              "      <td>Yes</td>\n",
              "      <td>Yes</td>\n",
              "      <td>Yes</td>\n",
              "      <td>No</td>\n",
              "      <td>Yes</td>\n",
              "      <td>No</td>\n",
              "      <td>Yes</td>\n",
              "      <td>No</td>\n",
              "      <td>No</td>\n",
              "      <td>No</td>\n",
              "      <td>No</td>\n",
              "      <td>Positive</td>\n",
              "    </tr>\n",
              "    <tr>\n",
              "      <th>4</th>\n",
              "      <td>60</td>\n",
              "      <td>Male</td>\n",
              "      <td>Yes</td>\n",
              "      <td>Yes</td>\n",
              "      <td>Yes</td>\n",
              "      <td>Yes</td>\n",
              "      <td>Yes</td>\n",
              "      <td>No</td>\n",
              "      <td>Yes</td>\n",
              "      <td>Yes</td>\n",
              "      <td>Yes</td>\n",
              "      <td>Yes</td>\n",
              "      <td>Yes</td>\n",
              "      <td>Yes</td>\n",
              "      <td>Yes</td>\n",
              "      <td>Yes</td>\n",
              "      <td>Positive</td>\n",
              "    </tr>\n",
              "  </tbody>\n",
              "</table>\n",
              "</div>"
            ],
            "text/plain": [
              "   Age Gender Polyuria Polydipsia  ... muscle stiffness Alopecia Obesity     class\n",
              "0   40   Male       No        Yes  ...              Yes      Yes     Yes  Positive\n",
              "1   58   Male       No         No  ...               No      Yes      No  Positive\n",
              "2   41   Male      Yes         No  ...              Yes      Yes      No  Positive\n",
              "3   45   Male       No         No  ...               No       No      No  Positive\n",
              "4   60   Male      Yes        Yes  ...              Yes      Yes     Yes  Positive\n",
              "\n",
              "[5 rows x 17 columns]"
            ]
          },
          "metadata": {
            "tags": []
          },
          "execution_count": 3
        }
      ]
    },
    {
      "cell_type": "markdown",
      "metadata": {
        "id": "oLnDZ6_dgbMr"
      },
      "source": [
        "## Data Wrangling\n",
        "\n",
        "Data wrangling is the process of gathering, selecting, and transforming data to answer an analytical question. Also known as data cleaning or munging, legend has it that this wrangling costs analytics professionals as much as 80% of their time, leaving only 20% for exploration and modeling.\n",
        "\n",
        "But the dataset is pre cleaned and there is no missing data. As a result, it is quite an easy step here and there is not much to do."
      ]
    },
    {
      "cell_type": "code",
      "metadata": {
        "colab": {
          "base_uri": "https://localhost:8080/"
        },
        "id": "k4e_uAgfgbMs",
        "outputId": "f706c06f-171c-4208-c1b4-b1611695b53b"
      },
      "source": [
        "# Check the data types of the columns and if there is any null value.\n",
        "df.info()"
      ],
      "execution_count": 4,
      "outputs": [
        {
          "output_type": "stream",
          "text": [
            "<class 'pandas.core.frame.DataFrame'>\n",
            "RangeIndex: 520 entries, 0 to 519\n",
            "Data columns (total 17 columns):\n",
            " #   Column              Non-Null Count  Dtype \n",
            "---  ------              --------------  ----- \n",
            " 0   Age                 520 non-null    int64 \n",
            " 1   Gender              520 non-null    object\n",
            " 2   Polyuria            520 non-null    object\n",
            " 3   Polydipsia          520 non-null    object\n",
            " 4   sudden weight loss  520 non-null    object\n",
            " 5   weakness            520 non-null    object\n",
            " 6   Polyphagia          520 non-null    object\n",
            " 7   Genital thrush      520 non-null    object\n",
            " 8   visual blurring     520 non-null    object\n",
            " 9   Itching             520 non-null    object\n",
            " 10  Irritability        520 non-null    object\n",
            " 11  delayed healing     520 non-null    object\n",
            " 12  partial paresis     520 non-null    object\n",
            " 13  muscle stiffness    520 non-null    object\n",
            " 14  Alopecia            520 non-null    object\n",
            " 15  Obesity             520 non-null    object\n",
            " 16  class               520 non-null    object\n",
            "dtypes: int64(1), object(16)\n",
            "memory usage: 69.2+ KB\n"
          ],
          "name": "stdout"
        }
      ]
    },
    {
      "cell_type": "markdown",
      "metadata": {
        "id": "Pc690eJZgbMt"
      },
      "source": [
        "## Exploratory Data Analysis\n",
        "\n",
        "In this section, we will try to infer about the trends in the dataset using data visualization and statistics. \n",
        "\n",
        "We can see that every columns without age consists of boolean values. So at first we need to encode them by using *LabelEncoder*. As these are boolean categorical values we cannot use [*pandas.DataFrame.describe*](https://pandas.pydata.org/pandas-docs/stable/reference/api/pandas.DataFrame.describe.html) to infer about the descriptive statistics including those that summarize the central tendency, dispersion and shape of a dataset’s distribution, excluding NaN values.\n",
        "\n",
        "Rather we can analyze the frequency of attributes over different age groups and gender."
      ]
    },
    {
      "cell_type": "code",
      "metadata": {
        "id": "IJwIgLCpgbMv"
      },
      "source": [
        "from sklearn import preprocessing\n",
        "label_encoder = preprocessing.LabelEncoder()\n",
        "for column  in df.columns[1:]:\n",
        "    df[column]= label_encoder.fit_transform(df[column])"
      ],
      "execution_count": 5,
      "outputs": []
    },
    {
      "cell_type": "code",
      "metadata": {
        "colab": {
          "base_uri": "https://localhost:8080/"
        },
        "id": "b5lDsxFNgbMw",
        "outputId": "2faf26db-d85f-4dc3-8f85-3f66cfd95e3f"
      },
      "source": [
        "# descriptive statistics of the Age column\n",
        "df.Age.describe()"
      ],
      "execution_count": 6,
      "outputs": [
        {
          "output_type": "execute_result",
          "data": {
            "text/plain": [
              "count    520.000000\n",
              "mean      48.028846\n",
              "std       12.151466\n",
              "min       16.000000\n",
              "25%       39.000000\n",
              "50%       47.500000\n",
              "75%       57.000000\n",
              "max       90.000000\n",
              "Name: Age, dtype: float64"
            ]
          },
          "metadata": {
            "tags": []
          },
          "execution_count": 6
        }
      ]
    },
    {
      "cell_type": "code",
      "metadata": {
        "colab": {
          "base_uri": "https://localhost:8080/",
          "height": 369
        },
        "id": "-E2NVe8zgbMw",
        "outputId": "250b4342-b4eb-432b-ee93-1f3e78d982e3"
      },
      "source": [
        "# Distribution of patients age. \n",
        "sns.displot(x='Age', kind ='hist', data= df, bins = 10, kde = True);"
      ],
      "execution_count": 7,
      "outputs": [
        {
          "output_type": "display_data",
          "data": {
            "image/png": "[encoded data removed]",
            "text/plain": [
              "<Figure size 360x360 with 1 Axes>"
            ]
          },
          "metadata": {
            "tags": [],
            "needs_background": "light"
          }
        }
      ]
    },
    {
      "cell_type": "markdown",
      "metadata": {
        "id": "J83wS57ygbMx"
      },
      "source": [
        "## Data Pre processing and Feature Important analysis\n",
        "\n",
        "the dataset is already pre-processed and there is not much to do. But we can check what are the most important features of this data set by: Finding out the pearson correlation between features and Class Feature importance techniues to reduce computational cost.\n"
      ]
    },
    {
      "cell_type": "markdown",
      "metadata": {
        "id": "HloPLzxagbMx"
      },
      "source": [
        "### Correlation analysis\n",
        "\n",
        "Correlation is not casuation but we can infer which features attributes most in defining the class. So that, we can also reduce relatively insignificant features for reducing load in machine learning models. we have taken pearson correlation coefficient "
      ]
    },
    {
      "cell_type": "code",
      "metadata": {
        "colab": {
          "base_uri": "https://localhost:8080/"
        },
        "id": "4OKn0RFGgbMy",
        "outputId": "faa2ae1c-3d3d-48a5-8cde-3b5d87756cbe"
      },
      "source": [
        "# taking the abosulute values of the correlating features to find out top 5 features\n",
        "np.abs(df.iloc[:,:-1].corrwith(df['class'])).sort_values(ascending = False)"
      ],
      "execution_count": 8,
      "outputs": [
        {
          "output_type": "execute_result",
          "data": {
            "text/plain": [
              "Polyuria              0.665922\n",
              "Polydipsia            0.648734\n",
              "Gender                0.449233\n",
              "sudden weight loss    0.436568\n",
              "partial paresis       0.432288\n",
              "Polyphagia            0.342504\n",
              "Irritability          0.299467\n",
              "Alopecia              0.267512\n",
              "visual blurring       0.251300\n",
              "weakness              0.243275\n",
              "muscle stiffness      0.122474\n",
              "Genital thrush        0.110288\n",
              "Age                   0.108679\n",
              "Obesity               0.072173\n",
              "delayed healing       0.046980\n",
              "Itching               0.013384\n",
              "dtype: float64"
            ]
          },
          "metadata": {
            "tags": []
          },
          "execution_count": 8
        }
      ]
    },
    {
      "cell_type": "markdown",
      "metadata": {
        "id": "-QFo-9yngbMz"
      },
      "source": [
        "### Feture importance\n",
        "\n",
        "which features are important is analyzed using RandomForestClassifier from sklearn.ensemble method. This is done in the Predictive analytics section bellow. From that we can see that *Age* is one of the most important factors but it is not quite correlated with the target variable *Class*.\n",
        "\n",
        "So, we should not rely on only one method in determing important features for predicting the target."
      ]
    },
    {
      "cell_type": "markdown",
      "metadata": {
        "id": "1e2ysUn4gbMz"
      },
      "source": [
        "## Predictive Analytics\n",
        "\n",
        "In predictive analytics, we need to come to an strategy for making a robust classifier to classify the likelyhood of a person having early stage diabetics by using new features. In this project, our goal should be minimizing false positives even if it reduces over all accuracy.\n",
        "\n",
        "In this step we need to:\n",
        "* split the dataset in training and testing dataset\n",
        "* find out the classification accuracy of a naive classifier\n",
        "* compare differnt classifier usign F1 score, precision, recall, accuracy and confusion matrix.\n",
        "* create an ensemble classifier using the top three classifiers "
      ]
    },
    {
      "cell_type": "code",
      "metadata": {
        "id": "B0m6z6CGgbM0"
      },
      "source": [
        "# importing necessary libraries\n",
        "from sklearn.metrics import accuracy_score\n",
        "from sklearn.model_selection import train_test_split\n",
        "from sklearn.model_selection import cross_val_predict, cross_val_score\n",
        "from sklearn.model_selection import KFold, ShuffleSplit\n",
        "from sklearn.metrics import classification_report, confusion_matrix"
      ],
      "execution_count": 9,
      "outputs": []
    },
    {
      "cell_type": "code",
      "metadata": {
        "colab": {
          "base_uri": "https://localhost:8080/"
        },
        "id": "5F08vukpgbM1",
        "outputId": "87d4a06e-4991-434b-f415-7b2a218b6af9"
      },
      "source": [
        "predictors = df.drop(['class'], axis= 1)\n",
        "target = df['class']\n",
        "x_train, x_val, y_train, y_val = train_test_split(predictors, target, test_size = 0.10, random_state = 0, stratify=target)\n",
        "print(x_train.shape, y_train.shape)\n",
        "print(x_val.shape, y_val.shape)"
      ],
      "execution_count": 10,
      "outputs": [
        {
          "output_type": "stream",
          "text": [
            "(468, 16) (468,)\n",
            "(52, 16) (52,)\n"
          ],
          "name": "stdout"
        }
      ]
    },
    {
      "cell_type": "markdown",
      "metadata": {
        "id": "U7HIvyemgbM2"
      },
      "source": [
        "## Creating a Baseline Regression Model\n",
        "\n",
        "DummyRegressor allows us to create a very simple model that we can use as a baseline to compare against our actual model. This can often be useful to simulate a “naive” existing prediction process in a product or system.\n",
        "\n",
        "score returns the coefficient of determination $(R-squared, R^2)$. The closer $R^2$ is to 1, the more of the variance in the target vector that is explained by\n",
        "the features."
      ]
    },
    {
      "cell_type": "code",
      "metadata": {
        "colab": {
          "base_uri": "https://localhost:8080/"
        },
        "id": "iUW82ZsFgbM3",
        "outputId": "932f8c33-028a-4a03-b0a7-f062416f92c5"
      },
      "source": [
        "from sklearn.dummy import DummyRegressor\n",
        "\n",
        "dummy = DummyRegressor(strategy='mean')\n",
        "dummy.fit(x_train, y_train)\n",
        "dummy.score(x_val, y_val)"
      ],
      "execution_count": 11,
      "outputs": [
        {
          "output_type": "execute_result",
          "data": {
            "text/plain": [
              "0.0"
            ]
          },
          "metadata": {
            "tags": []
          },
          "execution_count": 11
        }
      ]
    },
    {
      "cell_type": "markdown",
      "metadata": {
        "id": "khvvXSQvgbM3"
      },
      "source": [
        "**Null Accuracy:** accuracy that could be achieved by always predicting the most frequent class"
      ]
    },
    {
      "cell_type": "code",
      "metadata": {
        "colab": {
          "base_uri": "https://localhost:8080/"
        },
        "id": "8L4aYqQGgbM4",
        "outputId": "9daf40aa-8ca8-4230-dcd2-60265e3baace"
      },
      "source": [
        "y_train.value_counts()"
      ],
      "execution_count": 12,
      "outputs": [
        {
          "output_type": "execute_result",
          "data": {
            "text/plain": [
              "1    288\n",
              "0    180\n",
              "Name: class, dtype: int64"
            ]
          },
          "metadata": {
            "tags": []
          },
          "execution_count": 12
        }
      ]
    },
    {
      "cell_type": "code",
      "metadata": {
        "colab": {
          "base_uri": "https://localhost:8080/"
        },
        "id": "J8NSY-bogbM4",
        "outputId": "44e63563-15cf-418f-cbfa-c8d2ebea3cb8"
      },
      "source": [
        "y_train.mean()"
      ],
      "execution_count": 13,
      "outputs": [
        {
          "output_type": "execute_result",
          "data": {
            "text/plain": [
              "0.6153846153846154"
            ]
          },
          "metadata": {
            "tags": []
          },
          "execution_count": 13
        }
      ]
    },
    {
      "cell_type": "code",
      "metadata": {
        "id": "RzKA1b1orl8e"
      },
      "source": [
        ""
      ],
      "execution_count": 13,
      "outputs": []
    },
    {
      "cell_type": "code",
      "metadata": {
        "id": "ZDS3UCk2gbM5"
      },
      "source": [
        "classifiers_description = {\"model\":[],\"precision\":[], \"recall\":[],\"f1-score\":[], \"accuracy\":[], \"standard_deviation\" :[]}"
      ],
      "execution_count": 14,
      "outputs": []
    },
    {
      "cell_type": "code",
      "metadata": {
        "id": "HDOUp01rrmwU"
      },
      "source": [
        ""
      ],
      "execution_count": 14,
      "outputs": []
    },
    {
      "cell_type": "code",
      "metadata": {
        "id": "7zvc5jtmgbM5"
      },
      "source": [
        "def model_accuracy(classifier = None, predictors=None, target= None, n_splits = 10):\n",
        "    global classifiers_description\n",
        "    # helper function for Model Evaluation\n",
        "    \n",
        "    kf = KFold(n_splits=10, shuffle=True, random_state=1)\n",
        "    \n",
        "    y_pred = cross_val_predict(classifier, predictors, target, cv=kf)\n",
        "    scores = cross_val_score(classifier, predictors, target, cv=kf)\n",
        "    \n",
        "    # plotting confusion matrix\n",
        "\n",
        "    cf_matrix = confusion_matrix(target, y_pred)\n",
        "    sns.set_style('ticks')\n",
        "    fig, ax = plt.subplots()\n",
        "    sns.heatmap(cf_matrix,annot=True, ax=ax, fmt='g', cmap='Blues')\n",
        "\n",
        "    #making classifier description report\n",
        "    report = classification_report(target, y_pred, output_dict=True)\n",
        "    classifier_name = type(classifier).__name__\n",
        "    if classifier_name not in classifiers_description[\"model\"]:\n",
        "        classifiers_description[\"model\"].append(classifier_name)\n",
        "        classifiers_description[\"precision\"].append(report['weighted avg'][\"precision\"])\n",
        "        classifiers_description[\"recall\"].append(report['weighted avg'][\"recall\"])\n",
        "        classifiers_description[\"f1-score\"].append(report['weighted avg'][\"f1-score\"])\n",
        "        classifiers_description[\"accuracy\"].append(scores.mean())\n",
        "        classifiers_description[\"standard_deviation\"].append(scores.std())   \n",
        "\n",
        "    \n",
        "    print(classification_report(target, y_pred))\n",
        "\n",
        "    return (scores.mean(), scores.std())"
      ],
      "execution_count": 15,
      "outputs": []
    },
    {
      "cell_type": "code",
      "metadata": {
        "colab": {
          "base_uri": "https://localhost:8080/",
          "height": 433
        },
        "id": "PKtRxK0IgbM6",
        "outputId": "e11b01b1-d139-4658-b332-9ab0c20876e4"
      },
      "source": [
        "from sklearn.naive_bayes import GaussianNB\n",
        "clf_GNB = GaussianNB()\n",
        "model_accuracy(classifier=clf_GNB, predictors=predictors, target=target)\n"
      ],
      "execution_count": 16,
      "outputs": [
        {
          "output_type": "stream",
          "text": [
            "              precision    recall  f1-score   support\n",
            "\n",
            "           0       0.85      0.83      0.84       200\n",
            "           1       0.90      0.91      0.90       320\n",
            "\n",
            "    accuracy                           0.88       520\n",
            "   macro avg       0.87      0.87      0.87       520\n",
            "weighted avg       0.88      0.88      0.88       520\n",
            "\n"
          ],
          "name": "stdout"
        },
        {
          "output_type": "execute_result",
          "data": {
            "text/plain": [
              "(0.8788461538461538, 0.055769230769230786)"
            ]
          },
          "metadata": {
            "tags": []
          },
          "execution_count": 16
        },
        {
          "output_type": "display_data",
          "data": {
            "image/png": "[encoded data removed]",
            "text/plain": [
              "<Figure size 432x288 with 2 Axes>"
            ]
          },
          "metadata": {
            "tags": []
          }
        }
      ]
    },
    {
      "cell_type": "code",
      "metadata": {
        "colab": {
          "base_uri": "https://localhost:8080/",
          "height": 433
        },
        "id": "OtxeBLaCgbM8",
        "outputId": "94641cbd-2b06-471a-ad6a-8856e41fc223"
      },
      "source": [
        "from sklearn.linear_model import LogisticRegression\n",
        "clf_LR= LogisticRegression(max_iter=1000, )\n",
        "model_accuracy(classifier=clf_LR, predictors=predictors, target=target)"
      ],
      "execution_count": 17,
      "outputs": [
        {
          "output_type": "stream",
          "text": [
            "              precision    recall  f1-score   support\n",
            "\n",
            "           0       0.90      0.91      0.90       200\n",
            "           1       0.94      0.93      0.94       320\n",
            "\n",
            "    accuracy                           0.92       520\n",
            "   macro avg       0.92      0.92      0.92       520\n",
            "weighted avg       0.92      0.92      0.92       520\n",
            "\n"
          ],
          "name": "stdout"
        },
        {
          "output_type": "execute_result",
          "data": {
            "text/plain": [
              "(0.923076923076923, 0.032179231789772146)"
            ]
          },
          "metadata": {
            "tags": []
          },
          "execution_count": 17
        },
        {
          "output_type": "display_data",
          "data": {
            "image/png": "[encoded data removed]",
            "text/plain": [
              "<Figure size 432x288 with 2 Axes>"
            ]
          },
          "metadata": {
            "tags": []
          }
        }
      ]
    },
    {
      "cell_type": "code",
      "metadata": {
        "colab": {
          "base_uri": "https://localhost:8080/",
          "height": 433
        },
        "id": "eGPj_twmgbM9",
        "outputId": "8ae040eb-3fce-41b1-dde8-323bfcc06dba"
      },
      "source": [
        "from sklearn.tree import DecisionTreeClassifier\n",
        "clf_DT = DecisionTreeClassifier()\n",
        "model_accuracy(classifier=clf_DT, predictors=predictors, target=target)"
      ],
      "execution_count": 18,
      "outputs": [
        {
          "output_type": "stream",
          "text": [
            "              precision    recall  f1-score   support\n",
            "\n",
            "           0       0.96      0.96      0.96       200\n",
            "           1       0.98      0.98      0.98       320\n",
            "\n",
            "    accuracy                           0.97       520\n",
            "   macro avg       0.97      0.97      0.97       520\n",
            "weighted avg       0.97      0.97      0.97       520\n",
            "\n"
          ],
          "name": "stdout"
        },
        {
          "output_type": "execute_result",
          "data": {
            "text/plain": [
              "(0.9692307692307691, 0.019611613513818398)"
            ]
          },
          "metadata": {
            "tags": []
          },
          "execution_count": 18
        },
        {
          "output_type": "display_data",
          "data": {
            "image/png": "[encoded data removed]",
            "text/plain": [
              "<Figure size 432x288 with 2 Axes>"
            ]
          },
          "metadata": {
            "tags": []
          }
        }
      ]
    },
    {
      "cell_type": "code",
      "metadata": {
        "colab": {
          "base_uri": "https://localhost:8080/",
          "height": 433
        },
        "id": "XWn32mdTgbM-",
        "outputId": "5f9fbd1d-21ed-4c68-e985-cfc1b4f65be1"
      },
      "source": [
        "from sklearn.ensemble import RandomForestClassifier\n",
        "clf_RF = RandomForestClassifier()\n",
        "model_accuracy(classifier=clf_RF, predictors=predictors, target=target)"
      ],
      "execution_count": 19,
      "outputs": [
        {
          "output_type": "stream",
          "text": [
            "              precision    recall  f1-score   support\n",
            "\n",
            "           0       0.97      0.98      0.98       200\n",
            "           1       0.99      0.98      0.98       320\n",
            "\n",
            "    accuracy                           0.98       520\n",
            "   macro avg       0.98      0.98      0.98       520\n",
            "weighted avg       0.98      0.98      0.98       520\n",
            "\n"
          ],
          "name": "stdout"
        },
        {
          "output_type": "execute_result",
          "data": {
            "text/plain": [
              "(0.9807692307692306, 0.022754153011921602)"
            ]
          },
          "metadata": {
            "tags": []
          },
          "execution_count": 19
        },
        {
          "output_type": "display_data",
          "data": {
            "image/png": "[encoded data removed]",
            "text/plain": [
              "<Figure size 432x288 with 2 Axes>"
            ]
          },
          "metadata": {
            "tags": []
          }
        }
      ]
    },
    {
      "cell_type": "code",
      "metadata": {
        "colab": {
          "base_uri": "https://localhost:8080/",
          "height": 295
        },
        "id": "vp87xrfBgbM-",
        "outputId": "95b6f2e9-804b-4315-bb27-7867ccb989e0"
      },
      "source": [
        "# plotting feature importances\n",
        "\n",
        "from sklearn.ensemble import RandomForestClassifier\n",
        "\n",
        "# fitting the model\n",
        "model_RF = RandomForestClassifier(n_estimators=500, n_jobs=-1, random_state=42)\n",
        "model_RF.fit(x_train, y_train)\n",
        "\n",
        "features = df.drop('class', axis=1).columns\n",
        "importances = model_RF.feature_importances_\n",
        "indices = np.argsort(importances)\n",
        "\n",
        "plt.figure()\n",
        "plt.title('Feature Importances')\n",
        "plt.barh(range(len(indices)), importances[indices], color='b', align='center')\n",
        "plt.yticks(range(len(indices)), [features[i] for i in indices])\n",
        "plt.xlabel('Relative Importance')\n",
        "plt.show()"
      ],
      "execution_count": 20,
      "outputs": [
        {
          "output_type": "display_data",
          "data": {
            "image/png": "[encoded data removed]",
            "text/plain": [
              "<Figure size 432x288 with 1 Axes>"
            ]
          },
          "metadata": {
            "tags": []
          }
        }
      ]
    },
    {
      "cell_type": "code",
      "metadata": {
        "colab": {
          "base_uri": "https://localhost:8080/",
          "height": 433
        },
        "id": "Hxh7SwALgbM_",
        "outputId": "dd7a4a28-fbd7-46a2-8abd-e5d481e58bd9"
      },
      "source": [
        "from sklearn.ensemble import GradientBoostingClassifier\n",
        "clf_GBC = GradientBoostingClassifier()\n",
        "model_accuracy(classifier=clf_GBC, predictors=predictors, target=target)"
      ],
      "execution_count": 21,
      "outputs": [
        {
          "output_type": "stream",
          "text": [
            "              precision    recall  f1-score   support\n",
            "\n",
            "           0       0.97      0.97      0.97       200\n",
            "           1       0.98      0.98      0.98       320\n",
            "\n",
            "    accuracy                           0.97       520\n",
            "   macro avg       0.97      0.97      0.97       520\n",
            "weighted avg       0.98      0.97      0.98       520\n",
            "\n"
          ],
          "name": "stdout"
        },
        {
          "output_type": "execute_result",
          "data": {
            "text/plain": [
              "(0.975, 0.022835273244303685)"
            ]
          },
          "metadata": {
            "tags": []
          },
          "execution_count": 21
        },
        {
          "output_type": "display_data",
          "data": {
            "image/png": "[encoded data removed]",
            "text/plain": [
              "<Figure size 432x288 with 2 Axes>"
            ]
          },
          "metadata": {
            "tags": []
          }
        }
      ]
    },
    {
      "cell_type": "code",
      "metadata": {
        "colab": {
          "base_uri": "https://localhost:8080/",
          "height": 433
        },
        "id": "WX16cf_EoNZE",
        "outputId": "c466e2db-a46b-4c4c-9e28-43e4e6b5bf3b"
      },
      "source": [
        "from sklearn.neural_network import MLPClassifier\r\n",
        "MLP_clf = MLPClassifier(random_state=1, max_iter=10000)\r\n",
        "model_accuracy(classifier=MLP_clf, predictors=predictors, target=target)"
      ],
      "execution_count": 22,
      "outputs": [
        {
          "output_type": "stream",
          "text": [
            "              precision    recall  f1-score   support\n",
            "\n",
            "           0       0.96      0.96      0.96       200\n",
            "           1       0.97      0.97      0.97       320\n",
            "\n",
            "    accuracy                           0.97       520\n",
            "   macro avg       0.97      0.97      0.97       520\n",
            "weighted avg       0.97      0.97      0.97       520\n",
            "\n"
          ],
          "name": "stdout"
        },
        {
          "output_type": "execute_result",
          "data": {
            "text/plain": [
              "(0.9673076923076923, 0.031068258502699047)"
            ]
          },
          "metadata": {
            "tags": []
          },
          "execution_count": 22
        },
        {
          "output_type": "display_data",
          "data": {
            "image/png": "[encoded data removed]",
            "text/plain": [
              "<Figure size 432x288 with 2 Axes>"
            ]
          },
          "metadata": {
            "tags": []
          }
        }
      ]
    },
    {
      "cell_type": "code",
      "metadata": {
        "colab": {
          "base_uri": "https://localhost:8080/",
          "height": 225
        },
        "id": "vf4vqJRJgbNA",
        "outputId": "d679b7c4-1655-4782-f75e-cfb22c1ea870"
      },
      "source": [
        "classifier_df = pd.DataFrame.from_dict(classifiers_description)\n",
        "classifier_df.sort_values(by=[\"f1-score\",\"standard_deviation\"], ascending=False)"
      ],
      "execution_count": 23,
      "outputs": [
        {
          "output_type": "execute_result",
          "data": {
            "text/html": [
              "<div>\n",
              "<style scoped>\n",
              "    .dataframe tbody tr th:only-of-type {\n",
              "        vertical-align: middle;\n",
              "    }\n",
              "\n",
              "    .dataframe tbody tr th {\n",
              "        vertical-align: top;\n",
              "    }\n",
              "\n",
              "    .dataframe thead th {\n",
              "        text-align: right;\n",
              "    }\n",
              "</style>\n",
              "<table border=\"1\" class=\"dataframe\">\n",
              "  <thead>\n",
              "    <tr style=\"text-align: right;\">\n",
              "      <th></th>\n",
              "      <th>model</th>\n",
              "      <th>precision</th>\n",
              "      <th>recall</th>\n",
              "      <th>f1-score</th>\n",
              "      <th>accuracy</th>\n",
              "      <th>standard_deviation</th>\n",
              "    </tr>\n",
              "  </thead>\n",
              "  <tbody>\n",
              "    <tr>\n",
              "      <th>3</th>\n",
              "      <td>RandomForestClassifier</td>\n",
              "      <td>0.980835</td>\n",
              "      <td>0.980769</td>\n",
              "      <td>0.980787</td>\n",
              "      <td>0.980769</td>\n",
              "      <td>0.022754</td>\n",
              "    </tr>\n",
              "    <tr>\n",
              "      <th>4</th>\n",
              "      <td>GradientBoostingClassifier</td>\n",
              "      <td>0.975031</td>\n",
              "      <td>0.975000</td>\n",
              "      <td>0.975012</td>\n",
              "      <td>0.975000</td>\n",
              "      <td>0.022835</td>\n",
              "    </tr>\n",
              "    <tr>\n",
              "      <th>2</th>\n",
              "      <td>DecisionTreeClassifier</td>\n",
              "      <td>0.971134</td>\n",
              "      <td>0.971154</td>\n",
              "      <td>0.971140</td>\n",
              "      <td>0.969231</td>\n",
              "      <td>0.019612</td>\n",
              "    </tr>\n",
              "    <tr>\n",
              "      <th>5</th>\n",
              "      <td>MLPClassifier</td>\n",
              "      <td>0.967346</td>\n",
              "      <td>0.967308</td>\n",
              "      <td>0.967323</td>\n",
              "      <td>0.967308</td>\n",
              "      <td>0.031068</td>\n",
              "    </tr>\n",
              "    <tr>\n",
              "      <th>1</th>\n",
              "      <td>LogisticRegression</td>\n",
              "      <td>0.923247</td>\n",
              "      <td>0.923077</td>\n",
              "      <td>0.923148</td>\n",
              "      <td>0.923077</td>\n",
              "      <td>0.032179</td>\n",
              "    </tr>\n",
              "    <tr>\n",
              "      <th>0</th>\n",
              "      <td>GaussianNB</td>\n",
              "      <td>0.878557</td>\n",
              "      <td>0.878846</td>\n",
              "      <td>0.878671</td>\n",
              "      <td>0.878846</td>\n",
              "      <td>0.055769</td>\n",
              "    </tr>\n",
              "  </tbody>\n",
              "</table>\n",
              "</div>"
            ],
            "text/plain": [
              "                        model  precision  ...  accuracy  standard_deviation\n",
              "3      RandomForestClassifier   0.980835  ...  0.980769            0.022754\n",
              "4  GradientBoostingClassifier   0.975031  ...  0.975000            0.022835\n",
              "2      DecisionTreeClassifier   0.971134  ...  0.969231            0.019612\n",
              "5               MLPClassifier   0.967346  ...  0.967308            0.031068\n",
              "1          LogisticRegression   0.923247  ...  0.923077            0.032179\n",
              "0                  GaussianNB   0.878557  ...  0.878846            0.055769\n",
              "\n",
              "[6 rows x 6 columns]"
            ]
          },
          "metadata": {
            "tags": []
          },
          "execution_count": 23
        }
      ]
    },
    {
      "cell_type": "markdown",
      "metadata": {
        "id": "Ej9FYmWHpz63"
      },
      "source": [
        "## Developing robust classifier by ensambling top three models\r\n",
        "\r\n",
        "From the above dataframe and confusion matrixes we can see that RandomForest, GradientBoosting, and Decision Tree classifiers gives better F1-score and lower False Negatives. So, we can ensemble them for developing a robust classifier usign soft voting."
      ]
    },
    {
      "cell_type": "code",
      "metadata": {
        "colab": {
          "base_uri": "https://localhost:8080/",
          "height": 433
        },
        "id": "xt63h-ksJm1L",
        "outputId": "e09476b9-4bef-43c6-b44e-259619b440ff"
      },
      "source": [
        "from sklearn.ensemble import VotingClassifier\r\n",
        "from sklearn.model_selection import GridSearchCV\r\n",
        "\r\n",
        "clf1 = RandomForestClassifier(random_state=1)\r\n",
        "clf2 = GradientBoostingClassifier(random_state=1)\r\n",
        "clf3 =  DecisionTreeClassifier(random_state=1)\r\n",
        "\r\n",
        "\r\n",
        "params={\"rf__max_depth\":[8],\r\n",
        "        \"rf__criterion\":[\"entropy\"],\r\n",
        "        \"rf__n_estimators\":[1000],\r\n",
        "        \"gb__loss\":[\"deviance\"],\r\n",
        "        \"gb__n_estimators\":[1000],\r\n",
        "        \"gb__criterion\":[\"friedman_mse\"],\r\n",
        "        \"gb__max_depth\":[2],\r\n",
        "        \"gb__max_features\":[\"auto\"],\r\n",
        "        \"dt__max_features\":[\"auto\"],\r\n",
        "        \"dt__criterion\":[\"gini\"],\r\n",
        "        \"dt__max_depth\":[16]\r\n",
        "        }\r\n",
        "\r\n",
        "eclf = VotingClassifier(estimators=[(\"rf\", clf1), (\"gb\", clf2), (\"dt\", clf3)],\r\n",
        "                       voting= 'soft', weights = [3,1,1])\r\n",
        "grid = GridSearchCV(estimator=eclf, param_grid=params, cv=5)\r\n",
        "grid.fit(x_train, y_train)\r\n",
        "grid_best = grid.best_estimator_\r\n",
        "model_accuracy(classifier=grid_best, predictors=x_train, target=y_train)"
      ],
      "execution_count": 24,
      "outputs": [
        {
          "output_type": "stream",
          "text": [
            "              precision    recall  f1-score   support\n",
            "\n",
            "           0       0.97      0.97      0.97       180\n",
            "           1       0.98      0.98      0.98       288\n",
            "\n",
            "    accuracy                           0.98       468\n",
            "   macro avg       0.97      0.98      0.98       468\n",
            "weighted avg       0.98      0.98      0.98       468\n",
            "\n"
          ],
          "name": "stdout"
        },
        {
          "output_type": "execute_result",
          "data": {
            "text/plain": [
              "(0.976549491211841, 0.02220942086242182)"
            ]
          },
          "metadata": {
            "tags": []
          },
          "execution_count": 24
        },
        {
          "output_type": "display_data",
          "data": {
            "image/png": "[encoded data removed]",
            "text/plain": [
              "<Figure size 432x288 with 2 Axes>"
            ]
          },
          "metadata": {
            "tags": []
          }
        }
      ]
    },
    {
      "cell_type": "markdown",
      "metadata": {
        "id": "mpjEDSgH7JO6"
      },
      "source": [
        "From the confusion matrix, we can see that we have reduced the type II error, by using weighted voting classifier. Now let's check how it performs on the validation dataset.**"
      ]
    },
    {
      "cell_type": "code",
      "metadata": {
        "colab": {
          "base_uri": "https://localhost:8080/"
        },
        "id": "Izh7WdTs4WO0",
        "outputId": "b3e4780a-82b2-40ca-f7a2-b654fa108626"
      },
      "source": [
        "y_pred = grid_best.predict(x_val)\r\n",
        "print(classification_report(y_val, y_pred))"
      ],
      "execution_count": 26,
      "outputs": [
        {
          "output_type": "stream",
          "text": [
            "              precision    recall  f1-score   support\n",
            "\n",
            "           0       0.95      1.00      0.98        20\n",
            "           1       1.00      0.97      0.98        32\n",
            "\n",
            "    accuracy                           0.98        52\n",
            "   macro avg       0.98      0.98      0.98        52\n",
            "weighted avg       0.98      0.98      0.98        52\n",
            "\n"
          ],
          "name": "stdout"
        }
      ]
    },
    {
      "cell_type": "markdown",
      "metadata": {
        "id": "kTNN1FLU7MuB"
      },
      "source": [
        "## Conclusion\r\n",
        "\r\n",
        "We can see that we can acheive a significant accuracy using Random Forest Classifier but with the help of other two classifiers we are able to reduce type II error. Our main gole was to reduce Type II error and we can see that with a tradeoff of accuracy we are able to acheive it."
      ]
    },
    {
      "cell_type": "code",
      "metadata": {
        "colab": {
          "base_uri": "https://localhost:8080/",
          "height": 254
        },
        "id": "xW4g0w6Z6jeG",
        "outputId": "7173eec3-9c75-4125-996a-2ea83c820612"
      },
      "source": [
        "classifier_df = pd.DataFrame.from_dict(classifiers_description)\r\n",
        "classifier_df.sort_values(by=[\"f1-score\",\"standard_deviation\"], ascending=False)"
      ],
      "execution_count": 27,
      "outputs": [
        {
          "output_type": "execute_result",
          "data": {
            "text/html": [
              "<div>\n",
              "<style scoped>\n",
              "    .dataframe tbody tr th:only-of-type {\n",
              "        vertical-align: middle;\n",
              "    }\n",
              "\n",
              "    .dataframe tbody tr th {\n",
              "        vertical-align: top;\n",
              "    }\n",
              "\n",
              "    .dataframe thead th {\n",
              "        text-align: right;\n",
              "    }\n",
              "</style>\n",
              "<table border=\"1\" class=\"dataframe\">\n",
              "  <thead>\n",
              "    <tr style=\"text-align: right;\">\n",
              "      <th></th>\n",
              "      <th>model</th>\n",
              "      <th>precision</th>\n",
              "      <th>recall</th>\n",
              "      <th>f1-score</th>\n",
              "      <th>accuracy</th>\n",
              "      <th>standard_deviation</th>\n",
              "    </tr>\n",
              "  </thead>\n",
              "  <tbody>\n",
              "    <tr>\n",
              "      <th>3</th>\n",
              "      <td>RandomForestClassifier</td>\n",
              "      <td>0.980835</td>\n",
              "      <td>0.980769</td>\n",
              "      <td>0.980787</td>\n",
              "      <td>0.980769</td>\n",
              "      <td>0.022754</td>\n",
              "    </tr>\n",
              "    <tr>\n",
              "      <th>6</th>\n",
              "      <td>VotingClassifier</td>\n",
              "      <td>0.976529</td>\n",
              "      <td>0.976496</td>\n",
              "      <td>0.976508</td>\n",
              "      <td>0.976549</td>\n",
              "      <td>0.022209</td>\n",
              "    </tr>\n",
              "    <tr>\n",
              "      <th>4</th>\n",
              "      <td>GradientBoostingClassifier</td>\n",
              "      <td>0.975031</td>\n",
              "      <td>0.975000</td>\n",
              "      <td>0.975012</td>\n",
              "      <td>0.975000</td>\n",
              "      <td>0.022835</td>\n",
              "    </tr>\n",
              "    <tr>\n",
              "      <th>2</th>\n",
              "      <td>DecisionTreeClassifier</td>\n",
              "      <td>0.971134</td>\n",
              "      <td>0.971154</td>\n",
              "      <td>0.971140</td>\n",
              "      <td>0.969231</td>\n",
              "      <td>0.019612</td>\n",
              "    </tr>\n",
              "    <tr>\n",
              "      <th>5</th>\n",
              "      <td>MLPClassifier</td>\n",
              "      <td>0.967346</td>\n",
              "      <td>0.967308</td>\n",
              "      <td>0.967323</td>\n",
              "      <td>0.967308</td>\n",
              "      <td>0.031068</td>\n",
              "    </tr>\n",
              "    <tr>\n",
              "      <th>1</th>\n",
              "      <td>LogisticRegression</td>\n",
              "      <td>0.923247</td>\n",
              "      <td>0.923077</td>\n",
              "      <td>0.923148</td>\n",
              "      <td>0.923077</td>\n",
              "      <td>0.032179</td>\n",
              "    </tr>\n",
              "    <tr>\n",
              "      <th>0</th>\n",
              "      <td>GaussianNB</td>\n",
              "      <td>0.878557</td>\n",
              "      <td>0.878846</td>\n",
              "      <td>0.878671</td>\n",
              "      <td>0.878846</td>\n",
              "      <td>0.055769</td>\n",
              "    </tr>\n",
              "  </tbody>\n",
              "</table>\n",
              "</div>"
            ],
            "text/plain": [
              "                        model  precision  ...  accuracy  standard_deviation\n",
              "3      RandomForestClassifier   0.980835  ...  0.980769            0.022754\n",
              "6            VotingClassifier   0.976529  ...  0.976549            0.022209\n",
              "4  GradientBoostingClassifier   0.975031  ...  0.975000            0.022835\n",
              "2      DecisionTreeClassifier   0.971134  ...  0.969231            0.019612\n",
              "5               MLPClassifier   0.967346  ...  0.967308            0.031068\n",
              "1          LogisticRegression   0.923247  ...  0.923077            0.032179\n",
              "0                  GaussianNB   0.878557  ...  0.878846            0.055769\n",
              "\n",
              "[7 rows x 6 columns]"
            ]
          },
          "metadata": {
            "tags": []
          },
          "execution_count": 27
        }
      ]
    }
  ]
}